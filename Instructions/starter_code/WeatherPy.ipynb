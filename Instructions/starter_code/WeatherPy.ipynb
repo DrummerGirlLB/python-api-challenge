{
 "cells": [
  {
   "cell_type": "markdown",
   "metadata": {},
   "source": [
    "# WeatherPy\n",
    "----\n",
    "\n",
    "#### Note\n",
    "* Instructions have been included for each segment. You do not have to follow them exactly, but they are included to help you think through the steps."
   ]
  },
  {
   "cell_type": "code",
   "execution_count": 1,
   "metadata": {
    "scrolled": true
   },
   "outputs": [],
   "source": [
    "# Dependencies and Setup USE env:root as kernal!\n",
    "import matplotlib.pyplot as plt\n",
    "import pandas as pd\n",
    "import numpy as np\n",
    "import requests\n",
    "import time\n",
    "from scipy.stats import linregress\n",
    "from pprint import pprint\n",
    "\n",
    "# Import API key\n",
    "from api_keys import weather_api_key\n",
    "\n",
    "# Incorporated citipy to determine city based on latitude and longitude\n",
    "from citipy import citipy\n",
    "\n",
    "# Output File (CSV)\n",
    "output_data_file = \"output_data/cities.csv\"\n",
    "\n",
    "# Range of latitudes and longitudes\n",
    "lat_range = (-90, 90)\n",
    "lng_range = (-180, 180)"
   ]
  },
  {
   "cell_type": "markdown",
   "metadata": {},
   "source": [
    "## Generate Cities List"
   ]
  },
  {
   "cell_type": "code",
   "execution_count": 2,
   "metadata": {},
   "outputs": [
    {
     "data": {
      "text/plain": [
       "618"
      ]
     },
     "execution_count": 2,
     "metadata": {},
     "output_type": "execute_result"
    }
   ],
   "source": [
    "# List for holding lat_lngs and cities\n",
    "lat_lngs = []\n",
    "cities = []\n",
    "\n",
    "# Create a set of random lat and lng combinations\n",
    "lats = np.random.uniform(lat_range[0], lat_range[1], size=1500)\n",
    "lngs = np.random.uniform(lng_range[0], lng_range[1], size=1500)\n",
    "lat_lngs = zip(lats, lngs) #zip the lat and lng together in one column for location use\n",
    "\n",
    "# Identify nearest city for each lat, lng combination\n",
    "for lat_lng in lat_lngs:\n",
    "    city = citipy.nearest_city(lat_lng[0], lat_lng[1]).city_name\n",
    "    \n",
    "    #city = city.replace(\" \", \"%20\")\n",
    "    \n",
    "    # If the city is unique, then add it to a our cities list\n",
    "    if city not in cities:\n",
    "        cities.append(city)\n",
    "\n",
    "# Print the city count to confirm sufficient count\n",
    "len(cities)"
   ]
  },
  {
   "cell_type": "markdown",
   "metadata": {},
   "source": [
    "### Perform API Calls\n",
    "* Perform a weather check on each city using a series of successive API calls.\n",
    "* Include a print log of each city as it'sbeing processed (with the city number and city name).\n"
   ]
  },
  {
   "cell_type": "code",
   "execution_count": 3,
   "metadata": {},
   "outputs": [
    {
     "name": "stdout",
     "output_type": "stream",
     "text": [
      "City 1 found: tasiilaq\n",
      "City 2 found: bredasdorp\n",
      "City 3 found: klaksvik\n",
      "City 4 found: rikitea\n",
      "City 5 found: brokopondo\n",
      "City 6 found: mataura\n",
      "City 7 found: castro\n",
      "City 8 found: qaanaaq\n",
      "City 9 found: cape town\n",
      "City 10 found: pevek\n",
      "City 11 found: troitskiy\n",
      "City 12 found: hermanus\n",
      "City 13 found: port elizabeth\n",
      "City 14 found: whitehorse\n",
      "City 15 found: ushuaia\n",
      "City 16 found: barrow\n",
      "City 17 found: chokurdakh\n",
      "City 18 found: norman wells\n",
      "City 19 found: upernavik\n",
      "City 20 found: paamiut\n",
      "City not found: bolshegrivskoye\n",
      "City 21 found: abu samrah\n",
      "City 22 found: isangel\n",
      "City 23 found: monteiro\n",
      "City 24 found: lima duarte\n",
      "City 25 found: kupang\n",
      "City 26 found: ahipara\n",
      "City 27 found: college\n",
      "City 28 found: mauriti\n",
      "City 29 found: hithadhoo\n",
      "City 30 found: taltal\n",
      "City 31 found: ancud\n",
      "City 32 found: gigmoto\n",
      "City not found: attawapiskat\n",
      "City 33 found: alice springs\n",
      "City 34 found: bosaso\n",
      "City 35 found: avarua\n",
      "City 36 found: puerto ayora\n",
      "City 37 found: laguna\n",
      "City 38 found: punta arenas\n",
      "City 39 found: mehamn\n",
      "City 40 found: talnakh\n",
      "City 41 found: pisco\n",
      "City 42 found: hobart\n",
      "City 43 found: vanimo\n",
      "City 44 found: leningradskiy\n",
      "City 45 found: arraial do cabo\n",
      "City 46 found: camoapa\n",
      "City 47 found: loandjili\n",
      "City 48 found: kapaa\n",
      "City 49 found: athabasca\n",
      "City 50 found: naze\n",
      "City 51 found: vaini\n",
      "City 52 found: namibe\n",
      "City 53 found: bengkulu\n",
      "City 54 found: kavieng\n",
      "City 55 found: iqaluit\n",
      "City 56 found: chuy\n",
      "City 57 found: gizo\n",
      "City 58 found: port alfred\n",
      "City 59 found: nikolskoye\n",
      "City 60 found: vendas novas\n",
      "City 61 found: zolotonosha\n",
      "City 62 found: la macarena\n",
      "City 63 found: bonthe\n",
      "City 64 found: mount isa\n",
      "City 65 found: trat\n",
      "City 66 found: kafue\n",
      "City 67 found: sitka\n",
      "City not found: taolanaro\n",
      "City 68 found: hamilton\n",
      "City 69 found: pottsville\n",
      "City 70 found: makakilo city\n",
      "City 71 found: hilo\n",
      "City 72 found: esperance\n",
      "City 73 found: teknaf\n",
      "City 74 found: kisangani\n",
      "City 75 found: eyl\n",
      "City 76 found: busselton\n",
      "City 77 found: kodiak\n",
      "City 78 found: kahului\n",
      "City 79 found: caramay\n",
      "City 80 found: aguimes\n",
      "City not found: vaitupu\n",
      "City 81 found: asfi\n",
      "City 82 found: hofn\n",
      "City 83 found: el tigre\n",
      "City 84 found: sept-iles\n",
      "City 85 found: carnarvon\n",
      "City 86 found: shestakovo\n",
      "City 87 found: lorengau\n",
      "City 88 found: comodoro rivadavia\n",
      "City 89 found: mangrol\n",
      "City 90 found: albany\n",
      "City 91 found: ketchikan\n",
      "City 92 found: zhigansk\n",
      "City 93 found: vagur\n",
      "City 94 found: kavaratti\n",
      "City 95 found: jamestown\n",
      "City 96 found: khatanga\n",
      "City 97 found: kieta\n",
      "City 98 found: tessalit\n",
      "City 99 found: bandarbeyla\n",
      "City 100 found: lebu\n",
      "City 101 found: general roca\n",
      "City not found: daxian\n",
      "City 102 found: celestun\n",
      "City 103 found: porto novo\n",
      "City 104 found: azul\n",
      "City 105 found: izumo\n",
      "City 106 found: ouro preto do oeste\n",
      "City 107 found: waldoboro\n",
      "City 108 found: novyy urengoy\n",
      "City 109 found: saskylakh\n",
      "City 110 found: caravelas\n",
      "City 111 found: east london\n",
      "City 112 found: dikson\n",
      "City 113 found: palmerston\n",
      "City not found: illoqqortoormiut\n",
      "City 114 found: ygatimi\n",
      "City 115 found: raudeberg\n",
      "City 116 found: coos bay\n",
      "City not found: ust-kamchatsk\n",
      "City 117 found: maniitsoq\n",
      "City 118 found: pandan\n",
      "City 119 found: souillac\n",
      "City 120 found: yantai\n",
      "City 121 found: dunkwa\n",
      "City 122 found: khromtau\n",
      "City 123 found: quatre cocos\n",
      "City 124 found: narsaq\n",
      "City 125 found: berlevag\n",
      "City 126 found: pathein\n",
      "City 127 found: bluff\n",
      "City not found: amderma\n",
      "City 128 found: nogliki\n",
      "City 129 found: severo-kurilsk\n",
      "City 130 found: mahebourg\n",
      "City 131 found: atakpame\n",
      "City 132 found: minas\n",
      "City 133 found: bereda\n",
      "City 134 found: udachnyy\n",
      "City 135 found: rio claro\n",
      "City 136 found: la ronge\n",
      "City 137 found: ribeira grande\n",
      "City 138 found: yellowknife\n",
      "City not found: marcona\n",
      "City 139 found: sechura\n",
      "City 140 found: gamba\n",
      "City 141 found: muros\n",
      "City 142 found: olafsvik\n",
      "City 143 found: cidreira\n",
      "City 144 found: chapais\n",
      "City 145 found: tiksi\n",
      "City 146 found: keffi\n",
      "City 147 found: sur\n",
      "City 148 found: guarapari\n",
      "City 149 found: muzaffarabad\n",
      "City 150 found: handan\n",
      "City 151 found: dingle\n",
      "City 152 found: tigre\n",
      "City 153 found: faanui\n",
      "City not found: grand river south east\n",
      "City 154 found: hovd\n",
      "City 155 found: margate\n",
      "City 156 found: oussouye\n",
      "City 157 found: halol\n",
      "City 158 found: new norfolk\n",
      "City 159 found: kochi\n",
      "City not found: viligili\n",
      "City 160 found: bathsheba\n",
      "City 161 found: buala\n",
      "City 162 found: alofi\n",
      "City 163 found: matay\n",
      "City 164 found: coihaique\n",
      "City 165 found: hasaki\n",
      "City 166 found: pokhara\n",
      "City 167 found: batemans bay\n",
      "City 168 found: los llanos de aridane\n",
      "City 169 found: port augusta\n",
      "City 170 found: lagoa\n",
      "City not found: tsihombe\n",
      "City 171 found: oskemen\n",
      "City 172 found: ajra\n",
      "City 173 found: tuktoyaktuk\n",
      "City not found: belushya guba\n",
      "City 174 found: roanoke rapids\n",
      "City 175 found: markova\n",
      "City 176 found: vengerovo\n",
      "City 177 found: san luis\n",
      "City 178 found: atar\n",
      "City 179 found: mount gambier\n",
      "City 180 found: kashi\n",
      "City 181 found: codrington\n",
      "City 182 found: ossora\n",
      "City 183 found: grindavik\n",
      "City 184 found: gao\n",
      "City 185 found: sao joao da barra\n",
      "City 186 found: tomatlan\n",
      "City 187 found: atuona\n",
      "City 188 found: lufilufi\n",
      "City 189 found: tucurui\n",
      "City 190 found: korla\n",
      "City 191 found: geraldton\n",
      "City 192 found: ulaanbaatar\n",
      "City 193 found: orange cove\n",
      "City 194 found: cabo san lucas\n",
      "City not found: utiroa\n",
      "City 195 found: bambous virieux\n",
      "City 196 found: dembi dolo\n",
      "City 197 found: tabory\n",
      "City 198 found: vilhena\n",
      "City not found: nikolskoye-na-cheremshane\n",
      "City 199 found: samarai\n",
      "City 200 found: bethel\n",
      "City not found: urtaaul\n",
      "City 201 found: chiredzi\n",
      "City 202 found: kasane\n",
      "City 203 found: ukiah\n",
      "City 204 found: orgtrud\n",
      "City 205 found: mar del plata\n",
      "City 206 found: ucluelet\n",
      "City 207 found: provideniya\n",
      "City 208 found: kamenka\n",
      "City 209 found: kosikha\n",
      "City 210 found: kaka\n",
      "City 211 found: ilulissat\n",
      "City 212 found: gorontalo\n",
      "City 213 found: amapa\n",
      "City 214 found: kysyl-syr\n",
      "City 215 found: yar-sale\n",
      "City 216 found: mul\n",
      "City 217 found: quito\n",
      "City 218 found: umm lajj\n",
      "City not found: tumannyy\n",
      "City 219 found: faya\n",
      "City 220 found: guerrero negro\n",
      "City 221 found: lisakovsk\n",
      "City 222 found: hue\n",
      "City 223 found: qinhuangdao\n",
      "City not found: mys shmidta\n",
      "City not found: samalaeulu\n",
      "City 224 found: kruisfontein\n",
      "City 225 found: qaqortoq\n",
      "City 226 found: tura\n",
      "City 227 found: bilma\n",
      "City not found: tome-acu\n",
      "City 228 found: ylivieska\n",
      "City 229 found: sorland\n",
      "City 230 found: kirakira\n",
      "City 231 found: nantucket\n",
      "City 232 found: butaritari\n",
      "City 233 found: dawei\n",
      "City not found: saint-pacome\n",
      "City 234 found: alta floresta\n",
      "City 235 found: nanortalik\n",
      "City 236 found: saint-augustin\n",
      "City 237 found: akyab\n",
      "City 238 found: lompoc\n",
      "City 239 found: los algarrobos\n",
      "City 240 found: makokou\n",
      "City 241 found: torbay\n",
      "City 242 found: bima\n",
      "City 243 found: ponta delgada\n",
      "City not found: barawe\n",
      "City 244 found: aklavik\n",
      "City 245 found: nhulunbuy\n",
      "City not found: sorvag\n",
      "City 246 found: bundibugyo\n",
      "City 247 found: petropavlovsk-kamchatskiy\n",
      "City 248 found: tagusao\n",
      "City 249 found: anloga\n",
      "City 250 found: fuglebjerg\n",
      "City 251 found: weligama\n",
      "City 252 found: kununurra\n",
      "City 253 found: riohacha\n",
      "City 254 found: narrabri\n",
      "City 255 found: lewistown\n",
      "City 256 found: radovitskiy\n",
      "City 257 found: diffa\n",
      "City 258 found: georgetown\n",
      "City not found: sentyabrskiy\n",
      "City 259 found: amazar\n",
      "City 260 found: teya\n",
      "City 261 found: saint george\n",
      "City 262 found: brits\n",
      "City 263 found: saint-philippe\n",
      "City 264 found: adrar\n",
      "City 265 found: garden city\n",
      "City not found: coyuca\n",
      "City 266 found: roebourne\n",
      "City 267 found: mayo\n",
      "City 268 found: saint-prosper\n",
      "City 269 found: sokolka\n",
      "City 270 found: coahuayana\n",
      "City 271 found: saint-joseph\n",
      "City 272 found: doka\n",
      "City 273 found: jangaon\n",
      "City 274 found: nemuro\n",
      "City 275 found: bratsk\n",
      "City 276 found: lavrentiya\n",
      "City 277 found: pacific grove\n",
      "City not found: saryshagan\n",
      "City 278 found: floro\n",
      "City not found: bargal\n",
      "City 279 found: ixtapa\n",
      "City 280 found: moskovskiy\n",
      "City 281 found: takoradi\n",
      "City 282 found: yarmouth\n",
      "City 283 found: longyearbyen\n",
      "City 284 found: saldanha\n",
      "City 285 found: awjilah\n",
      "City 286 found: hami\n",
      "City 287 found: fortuna\n",
      "City 288 found: gerash\n",
      "City 289 found: beringovskiy\n",
      "City 290 found: jacareacanga\n",
      "City 291 found: darhan\n",
      "City 292 found: bystryy istok\n",
      "City 293 found: thompson\n",
      "City 294 found: asau\n",
      "City 295 found: wanaka\n",
      "City 296 found: krasne\n",
      "City 297 found: paramonga\n",
      "City 298 found: mayumba\n",
      "City 299 found: sun valley\n",
      "City 300 found: dwarka\n",
      "City 301 found: chicama\n",
      "City 302 found: cadillac\n"
     ]
    },
    {
     "name": "stdout",
     "output_type": "stream",
     "text": [
      "City 303 found: russell\n",
      "City 304 found: bocana de paiwas\n",
      "City 305 found: acarau\n",
      "City 306 found: dalvik\n",
      "City 307 found: saryozek\n",
      "City 308 found: ulkan\n",
      "City 309 found: walvis bay\n",
      "City 310 found: tuatapere\n",
      "City 311 found: san gabriel\n",
      "City 312 found: clearwater\n",
      "City 313 found: gasa\n",
      "City 314 found: rio branco\n",
      "City 315 found: saint-leu\n",
      "City 316 found: yaan\n",
      "City 317 found: hatillo\n",
      "City 318 found: grand gaube\n",
      "City 319 found: humaita\n",
      "City 320 found: port-gentil\n",
      "City 321 found: preobrazheniye\n",
      "City 322 found: port macquarie\n",
      "City 323 found: astrea\n",
      "City 324 found: camacha\n",
      "City 325 found: husavik\n",
      "City 326 found: moindou\n",
      "City 327 found: nipawin\n",
      "City 328 found: leshukonskoye\n",
      "City 329 found: odweyne\n",
      "City 330 found: gejiu\n",
      "City 331 found: necochea\n",
      "City 332 found: balaipungut\n",
      "City 333 found: baruun-urt\n",
      "City 334 found: san juan\n",
      "City 335 found: katsuura\n",
      "City 336 found: westport\n",
      "City 337 found: tahe\n",
      "City 338 found: mitchell\n",
      "City 339 found: chengde\n",
      "City 340 found: camopi\n",
      "City 341 found: gazli\n",
      "City 342 found: zeya\n",
      "City 343 found: thinadhoo\n",
      "City 344 found: the pas\n",
      "City 345 found: tanda\n",
      "City 346 found: samut prakan\n",
      "City 347 found: martinsville\n",
      "City 348 found: klamath falls\n",
      "City 349 found: arman\n",
      "City 350 found: lata\n",
      "City 351 found: santa isabel do rio negro\n",
      "City 352 found: san patricio\n",
      "City 353 found: cayenne\n",
      "City 354 found: bambanglipuro\n",
      "City 355 found: biak\n",
      "City 356 found: nsoko\n",
      "City 357 found: cherskiy\n",
      "City 358 found: port hardy\n",
      "City 359 found: coquimbo\n",
      "City 360 found: north platte\n",
      "City 361 found: mufulira\n",
      "City 362 found: cockburn town\n",
      "City 363 found: lunenburg\n",
      "City 364 found: nome\n",
      "City 365 found: malakal\n",
      "City 366 found: touros\n",
      "City 367 found: praya\n",
      "City 368 found: palauig\n",
      "City 369 found: norrkoping\n",
      "City 370 found: richards bay\n",
      "City not found: nizhneyansk\n",
      "City 371 found: severnyy\n",
      "City 372 found: ponta do sol\n",
      "City 373 found: cloquet\n",
      "City 374 found: dneprovskaya\n",
      "City 375 found: beloha\n",
      "City 376 found: saravan\n",
      "City 377 found: victor harbor\n",
      "City 378 found: iskateley\n",
      "City 379 found: chegdomyn\n",
      "City 380 found: tabou\n",
      "City 381 found: digby\n",
      "City 382 found: te anau\n",
      "City 383 found: buraydah\n",
      "City 384 found: gimli\n",
      "City 385 found: sochaczew\n",
      "City 386 found: prado\n",
      "City 387 found: vanavara\n",
      "City 388 found: szekkutas\n",
      "City 389 found: stornoway\n",
      "City 390 found: jiayuguan\n",
      "City 391 found: impfondo\n",
      "City not found: mentok\n",
      "City 392 found: kamwenge\n",
      "City 393 found: omsukchan\n",
      "City not found: okandja\n",
      "City 394 found: airai\n",
      "City 395 found: kasongo\n",
      "City 396 found: bilibino\n",
      "City 397 found: wanning\n",
      "City 398 found: catacaos\n",
      "City 399 found: vaitape\n",
      "City 400 found: newala\n",
      "City 401 found: whitianga\n",
      "City 402 found: boyolangu\n",
      "City 403 found: havelock\n",
      "City 404 found: angoram\n",
      "City 405 found: kerema\n",
      "City 406 found: gracac\n",
      "City 407 found: vila franca do campo\n",
      "City 408 found: bogandinskiy\n",
      "City 409 found: saposoa\n",
      "City 410 found: wawa\n",
      "City 411 found: khani\n",
      "City not found: barentsburg\n",
      "City 412 found: dhidhdhoo\n",
      "City 413 found: brandon\n",
      "City 414 found: sao filipe\n",
      "City 415 found: krasnoselkup\n",
      "City 416 found: beisfjord\n",
      "City 417 found: xam nua\n",
      "City 418 found: rupert\n",
      "City 419 found: pangnirtung\n",
      "City 420 found: winnemucca\n",
      "City 421 found: smolenka\n",
      "City 422 found: meulaboh\n",
      "City 423 found: mangan\n",
      "City 424 found: ust-nera\n",
      "City 425 found: portland\n",
      "City 426 found: silver city\n",
      "City 427 found: parrita\n",
      "City 428 found: oyama\n",
      "City 429 found: eura\n",
      "City 430 found: poum\n",
      "City 431 found: ballina\n",
      "City 432 found: obidos\n",
      "City 433 found: state college\n",
      "City 434 found: casambalangan\n",
      "City 435 found: skibotn\n",
      "City 436 found: jaisalmer\n",
      "City not found: tuggurt\n",
      "City 437 found: anadyr\n",
      "City 438 found: yumen\n",
      "City 439 found: iki-burul\n",
      "City 440 found: sao felix do xingu\n",
      "City 441 found: mweka\n",
      "City 442 found: naryan-mar\n",
      "City 443 found: bajil\n",
      "City 444 found: bulungu\n",
      "City not found: toliary\n",
      "City 445 found: duiwelskloof\n",
      "City 446 found: bucerias\n",
      "City 447 found: pinheiro\n",
      "City not found: tarudant\n",
      "City 448 found: oranjemund\n",
      "City 449 found: la libertad\n",
      "City 450 found: oliveira\n",
      "City 451 found: saint anthony\n",
      "City 452 found: zinder\n",
      "City 453 found: thohoyandou\n",
      "City 454 found: doba\n",
      "City 455 found: mae hong son\n",
      "City 456 found: opuwo\n",
      "City 457 found: port lincoln\n",
      "City 458 found: hobyo\n",
      "City 459 found: tual\n",
      "City 460 found: port shepstone\n",
      "City 461 found: shingu\n",
      "City 462 found: hvolsvollur\n",
      "City 463 found: fulnek\n",
      "City 464 found: abancay\n",
      "City not found: ngukurr\n",
      "City 465 found: khandbari\n",
      "City 466 found: voznesenye\n",
      "City 467 found: payakumbuh\n",
      "City 468 found: egvekinot\n",
      "City 469 found: alta gracia\n",
      "City 470 found: moron\n",
      "City 471 found: the valley\n",
      "City not found: abiy adi\n",
      "City 472 found: sokoni\n",
      "City 473 found: ginir\n",
      "City 474 found: illapel\n",
      "City 475 found: san salvo\n",
      "City 476 found: yerbogachen\n",
      "City 477 found: port hedland\n",
      "City 478 found: hereford\n",
      "City 479 found: bandar-e lengeh\n",
      "City not found: mahaicony\n",
      "City 480 found: evensk\n",
      "City 481 found: fayaoue\n",
      "City 482 found: fairbanks\n",
      "City 483 found: rokytne\n",
      "City 484 found: omboue\n",
      "City 485 found: taoudenni\n",
      "City 486 found: lasa\n",
      "City 487 found: minab\n",
      "City 488 found: puerto narino\n",
      "City 489 found: tiassale\n",
      "City not found: hihifo\n",
      "City 490 found: santo antonio do sudoeste\n",
      "City 491 found: bitam\n",
      "City not found: saleaula\n",
      "City not found: kuche\n",
      "City 492 found: san quintin\n",
      "City 493 found: lima\n",
      "City 494 found: portlethen\n",
      "City 495 found: lebanon\n",
      "City 496 found: yidu\n",
      "City 497 found: warmbad\n",
      "City 498 found: huarmey\n",
      "City 499 found: ostrovnoy\n",
      "City 500 found: cuenca\n",
      "City 501 found: haines junction\n",
      "City 502 found: fergus falls\n",
      "City 503 found: ozernovskiy\n",
      "City 504 found: luderitz\n",
      "City 505 found: kaitangata\n",
      "City 506 found: greensburg\n",
      "City 507 found: kimberley\n",
      "City 508 found: esso\n",
      "City 509 found: juneau\n",
      "City 510 found: shenjiamen\n",
      "City 511 found: erzin\n",
      "City 512 found: uray\n",
      "City 513 found: erie\n",
      "City 514 found: sinnamary\n",
      "City 515 found: mitsamiouli\n",
      "City 516 found: terrace\n",
      "City 517 found: sobolevo\n",
      "City 518 found: nkowakowa\n",
      "City 519 found: abnub\n",
      "City not found: ambodifototra\n",
      "City 520 found: oistins\n",
      "City 521 found: peranamallur\n",
      "City 522 found: tabuk\n",
      "City 523 found: sarangani\n",
      "City 524 found: ekhabi\n",
      "City 525 found: komsomolskiy\n",
      "City 526 found: esna\n",
      "City 527 found: buzmeyin\n",
      "City not found: ondorhaan\n",
      "City 528 found: auce\n",
      "City 529 found: srednekolymsk\n",
      "City not found: mahadday weyne\n",
      "City 530 found: boende\n",
      "City not found: katha\n",
      "City not found: yeehaw junction\n",
      "City 531 found: quesnel\n",
      "City 532 found: buchanan\n",
      "City 533 found: chumikan\n",
      "City 534 found: atbasar\n",
      "City 535 found: little current\n",
      "City 536 found: comal\n",
      "City 537 found: sarab\n",
      "City 538 found: soyo\n",
      "City 539 found: aden\n",
      "City 540 found: hambantota\n",
      "City 541 found: panguipulli\n",
      "City 542 found: tuma\n",
      "City 543 found: liverpool\n",
      "City 544 found: nyurba\n",
      "City 545 found: khandyga\n",
      "City 546 found: birin\n",
      "City 547 found: port blair\n",
      "City 548 found: north bend\n",
      "City 549 found: isla mujeres\n",
      "City 550 found: hargeysa\n",
      "City 551 found: skiathos\n",
      "City 552 found: antalaha\n",
      "City 553 found: birao\n",
      "City 554 found: los andes\n",
      "City 555 found: semey\n",
      "City 556 found: ilorin\n",
      "City 557 found: waingapu\n",
      "City 558 found: novaya bryan\n",
      "City not found: tawkar\n",
      "City 559 found: carlsbad\n",
      "City 560 found: pontes e lacerda\n",
      "City 561 found: nishihara\n",
      "City 562 found: brigantine\n",
      "City 563 found: deputatskiy\n",
      "City 564 found: clyde river\n",
      "City 565 found: matara\n",
      "City 566 found: willowmore\n",
      "City 567 found: ilo\n",
      "City 568 found: pingdingshan\n",
      "City 569 found: wukari\n",
      "City 570 found: kalmunai\n",
      "City 571 found: kizukuri\n",
      "City 572 found: vila velha\n"
     ]
    }
   ],
   "source": [
    "#create url-will add city later in forloop\n",
    "#https://openweathermap.org/current for api request doc information\n",
    "url = \"http://api.openweathermap.org/data/2.5/weather?\"\n",
    "unit = \"imperial\"\n",
    "query_url = f\"{url}&appid={weather_api_key}&units={unit}&q=\"\n",
    "\n",
    "# Lists creation\n",
    "lat = []\n",
    "lon = []\n",
    "found_cities = []\n",
    "max_temp = []\n",
    "humidity = []\n",
    "cloudiness = []\n",
    "wind_speed = []\n",
    "date = []\n",
    "country = []\n",
    "\n",
    "#counter for city\n",
    "record = 1\n",
    "\n",
    "#forloop (not all cities found with data - add try/except)\n",
    "for city in cities:\n",
    "    try:\n",
    "        response = requests.get(query_url + city).json()\n",
    "        lat.append(response[\"coord\"][\"lat\"])\n",
    "        lon.append(response[\"coord\"][\"lon\"])\n",
    "        max_temp.append(response[\"main\"][\"temp_max\"])\n",
    "        humidity.append(response[\"main\"][\"humidity\"])\n",
    "        cloudiness.append(response[\"clouds\"][\"all\"])\n",
    "        wind_speed.append(response[\"wind\"][\"speed\"])\n",
    "        date.append(response[\"dt\"])\n",
    "        country.append(response[\"sys\"][\"country\"])\n",
    "        found_cities.append(city)\n",
    "        print(f\"City {record} found: {city}\")\n",
    "        record = record + 1\n",
    "    except:\n",
    "        print(f\"City not found: {city}\")\n",
    "#checkpoint"
   ]
  },
  {
   "cell_type": "markdown",
   "metadata": {},
   "source": [
    "### Convert Raw Data to DataFrame\n",
    "* Export the city data into a .csv.\n",
    "* Display the DataFrame"
   ]
  },
  {
   "cell_type": "code",
   "execution_count": 4,
   "metadata": {
    "scrolled": true
   },
   "outputs": [
    {
     "data": {
      "text/html": [
       "<div>\n",
       "<style scoped>\n",
       "    .dataframe tbody tr th:only-of-type {\n",
       "        vertical-align: middle;\n",
       "    }\n",
       "\n",
       "    .dataframe tbody tr th {\n",
       "        vertical-align: top;\n",
       "    }\n",
       "\n",
       "    .dataframe thead th {\n",
       "        text-align: right;\n",
       "    }\n",
       "</style>\n",
       "<table border=\"1\" class=\"dataframe\">\n",
       "  <thead>\n",
       "    <tr style=\"text-align: right;\">\n",
       "      <th></th>\n",
       "      <th>City</th>\n",
       "      <th>Lat</th>\n",
       "      <th>Lng</th>\n",
       "      <th>Max Temp</th>\n",
       "      <th>Humidity</th>\n",
       "      <th>Cloudiness</th>\n",
       "      <th>Wind Speed</th>\n",
       "      <th>Country</th>\n",
       "      <th>Date</th>\n",
       "    </tr>\n",
       "  </thead>\n",
       "  <tbody>\n",
       "    <tr>\n",
       "      <th>0</th>\n",
       "      <td>tasiilaq</td>\n",
       "      <td>65.6145</td>\n",
       "      <td>-37.6368</td>\n",
       "      <td>28.40</td>\n",
       "      <td>93</td>\n",
       "      <td>20</td>\n",
       "      <td>6.91</td>\n",
       "      <td>GL</td>\n",
       "      <td>1619884916</td>\n",
       "    </tr>\n",
       "    <tr>\n",
       "      <th>1</th>\n",
       "      <td>bredasdorp</td>\n",
       "      <td>-34.5322</td>\n",
       "      <td>20.0403</td>\n",
       "      <td>64.40</td>\n",
       "      <td>59</td>\n",
       "      <td>0</td>\n",
       "      <td>8.05</td>\n",
       "      <td>ZA</td>\n",
       "      <td>1619884918</td>\n",
       "    </tr>\n",
       "    <tr>\n",
       "      <th>2</th>\n",
       "      <td>klaksvik</td>\n",
       "      <td>62.2266</td>\n",
       "      <td>-6.5890</td>\n",
       "      <td>37.40</td>\n",
       "      <td>87</td>\n",
       "      <td>75</td>\n",
       "      <td>4.61</td>\n",
       "      <td>FO</td>\n",
       "      <td>1619884918</td>\n",
       "    </tr>\n",
       "    <tr>\n",
       "      <th>3</th>\n",
       "      <td>rikitea</td>\n",
       "      <td>-23.1203</td>\n",
       "      <td>-134.9692</td>\n",
       "      <td>76.44</td>\n",
       "      <td>81</td>\n",
       "      <td>83</td>\n",
       "      <td>9.15</td>\n",
       "      <td>PF</td>\n",
       "      <td>1619884919</td>\n",
       "    </tr>\n",
       "    <tr>\n",
       "      <th>4</th>\n",
       "      <td>brokopondo</td>\n",
       "      <td>4.7500</td>\n",
       "      <td>-55.1667</td>\n",
       "      <td>83.17</td>\n",
       "      <td>68</td>\n",
       "      <td>78</td>\n",
       "      <td>1.39</td>\n",
       "      <td>SR</td>\n",
       "      <td>1619884919</td>\n",
       "    </tr>\n",
       "  </tbody>\n",
       "</table>\n",
       "</div>"
      ],
      "text/plain": [
       "         City      Lat       Lng  Max Temp  Humidity  Cloudiness  Wind Speed  \\\n",
       "0    tasiilaq  65.6145  -37.6368     28.40        93          20        6.91   \n",
       "1  bredasdorp -34.5322   20.0403     64.40        59           0        8.05   \n",
       "2    klaksvik  62.2266   -6.5890     37.40        87          75        4.61   \n",
       "3     rikitea -23.1203 -134.9692     76.44        81          83        9.15   \n",
       "4  brokopondo   4.7500  -55.1667     83.17        68          78        1.39   \n",
       "\n",
       "  Country        Date  \n",
       "0      GL  1619884916  \n",
       "1      ZA  1619884918  \n",
       "2      FO  1619884918  \n",
       "3      PF  1619884919  \n",
       "4      SR  1619884919  "
      ]
     },
     "execution_count": 4,
     "metadata": {},
     "output_type": "execute_result"
    }
   ],
   "source": [
    "city_data = pd.DataFrame({\"City\": found_cities,\n",
    "                          \"Lat\": lat,\n",
    "                          \"Lng\": lon,\n",
    "                          \"Max Temp\": max_temp,\n",
    "                          \"Humidity\": humidity,\n",
    "                          \"Cloudiness\": cloudiness,\n",
    "                          \"Wind Speed\":wind_speed,\n",
    "                          \"Country\": country,\n",
    "                          \"Date\": date\n",
    "                          })\n",
    "#Save dataframe as csv\n",
    "pd.DataFrame.to_csv(city_data, 'city_data.csv')\n",
    "\n",
    "city_data.head()\n",
    "#checkpoint"
   ]
  },
  {
   "cell_type": "code",
   "execution_count": 6,
   "metadata": {},
   "outputs": [
    {
     "data": {
      "text/html": [
       "<div>\n",
       "<style scoped>\n",
       "    .dataframe tbody tr th:only-of-type {\n",
       "        vertical-align: middle;\n",
       "    }\n",
       "\n",
       "    .dataframe tbody tr th {\n",
       "        vertical-align: top;\n",
       "    }\n",
       "\n",
       "    .dataframe thead th {\n",
       "        text-align: right;\n",
       "    }\n",
       "</style>\n",
       "<table border=\"1\" class=\"dataframe\">\n",
       "  <thead>\n",
       "    <tr style=\"text-align: right;\">\n",
       "      <th></th>\n",
       "      <th>Lat</th>\n",
       "      <th>Lng</th>\n",
       "      <th>Max Temp</th>\n",
       "      <th>Humidity</th>\n",
       "      <th>Cloudiness</th>\n",
       "      <th>Wind Speed</th>\n",
       "      <th>Date</th>\n",
       "    </tr>\n",
       "  </thead>\n",
       "  <tbody>\n",
       "    <tr>\n",
       "      <th>count</th>\n",
       "      <td>545.000000</td>\n",
       "      <td>545.000000</td>\n",
       "      <td>545.000000</td>\n",
       "      <td>545.000000</td>\n",
       "      <td>545.000000</td>\n",
       "      <td>545.000000</td>\n",
       "      <td>5.450000e+02</td>\n",
       "    </tr>\n",
       "    <tr>\n",
       "      <th>mean</th>\n",
       "      <td>20.387818</td>\n",
       "      <td>20.791194</td>\n",
       "      <td>62.146991</td>\n",
       "      <td>64.647706</td>\n",
       "      <td>51.433028</td>\n",
       "      <td>7.749963</td>\n",
       "      <td>1.619451e+09</td>\n",
       "    </tr>\n",
       "    <tr>\n",
       "      <th>std</th>\n",
       "      <td>33.762211</td>\n",
       "      <td>87.648365</td>\n",
       "      <td>21.657066</td>\n",
       "      <td>24.385023</td>\n",
       "      <td>38.193052</td>\n",
       "      <td>4.809598</td>\n",
       "      <td>7.014181e+01</td>\n",
       "    </tr>\n",
       "    <tr>\n",
       "      <th>min</th>\n",
       "      <td>-54.800000</td>\n",
       "      <td>-179.166700</td>\n",
       "      <td>-3.950000</td>\n",
       "      <td>4.000000</td>\n",
       "      <td>0.000000</td>\n",
       "      <td>0.270000</td>\n",
       "      <td>1.619450e+09</td>\n",
       "    </tr>\n",
       "    <tr>\n",
       "      <th>25%</th>\n",
       "      <td>-7.938600</td>\n",
       "      <td>-57.557500</td>\n",
       "      <td>46.400000</td>\n",
       "      <td>50.000000</td>\n",
       "      <td>11.000000</td>\n",
       "      <td>4.030000</td>\n",
       "      <td>1.619450e+09</td>\n",
       "    </tr>\n",
       "    <tr>\n",
       "      <th>50%</th>\n",
       "      <td>25.020900</td>\n",
       "      <td>26.400000</td>\n",
       "      <td>65.430000</td>\n",
       "      <td>69.000000</td>\n",
       "      <td>54.000000</td>\n",
       "      <td>6.910000</td>\n",
       "      <td>1.619451e+09</td>\n",
       "    </tr>\n",
       "    <tr>\n",
       "      <th>75%</th>\n",
       "      <td>50.350000</td>\n",
       "      <td>92.305800</td>\n",
       "      <td>79.610000</td>\n",
       "      <td>83.000000</td>\n",
       "      <td>90.000000</td>\n",
       "      <td>10.420000</td>\n",
       "      <td>1.619451e+09</td>\n",
       "    </tr>\n",
       "    <tr>\n",
       "      <th>max</th>\n",
       "      <td>78.218600</td>\n",
       "      <td>179.316700</td>\n",
       "      <td>107.910000</td>\n",
       "      <td>100.000000</td>\n",
       "      <td>100.000000</td>\n",
       "      <td>25.320000</td>\n",
       "      <td>1.619451e+09</td>\n",
       "    </tr>\n",
       "  </tbody>\n",
       "</table>\n",
       "</div>"
      ],
      "text/plain": [
       "              Lat         Lng    Max Temp    Humidity  Cloudiness  Wind Speed  \\\n",
       "count  545.000000  545.000000  545.000000  545.000000  545.000000  545.000000   \n",
       "mean    20.387818   20.791194   62.146991   64.647706   51.433028    7.749963   \n",
       "std     33.762211   87.648365   21.657066   24.385023   38.193052    4.809598   \n",
       "min    -54.800000 -179.166700   -3.950000    4.000000    0.000000    0.270000   \n",
       "25%     -7.938600  -57.557500   46.400000   50.000000   11.000000    4.030000   \n",
       "50%     25.020900   26.400000   65.430000   69.000000   54.000000    6.910000   \n",
       "75%     50.350000   92.305800   79.610000   83.000000   90.000000   10.420000   \n",
       "max     78.218600  179.316700  107.910000  100.000000  100.000000   25.320000   \n",
       "\n",
       "               Date  \n",
       "count  5.450000e+02  \n",
       "mean   1.619451e+09  \n",
       "std    7.014181e+01  \n",
       "min    1.619450e+09  \n",
       "25%    1.619450e+09  \n",
       "50%    1.619451e+09  \n",
       "75%    1.619451e+09  \n",
       "max    1.619451e+09  "
      ]
     },
     "execution_count": 6,
     "metadata": {},
     "output_type": "execute_result"
    }
   ],
   "source": [
    "#looks like they want a sum stat table\n",
    "city_data.describe()"
   ]
  },
  {
   "cell_type": "code",
   "execution_count": 12,
   "metadata": {},
   "outputs": [
    {
     "data": {
      "text/html": [
       "<div>\n",
       "<style scoped>\n",
       "    .dataframe tbody tr th:only-of-type {\n",
       "        vertical-align: middle;\n",
       "    }\n",
       "\n",
       "    .dataframe tbody tr th {\n",
       "        vertical-align: top;\n",
       "    }\n",
       "\n",
       "    .dataframe thead th {\n",
       "        text-align: right;\n",
       "    }\n",
       "</style>\n",
       "<table border=\"1\" class=\"dataframe\">\n",
       "  <thead>\n",
       "    <tr style=\"text-align: right;\">\n",
       "      <th></th>\n",
       "      <th>City</th>\n",
       "      <th>Lat</th>\n",
       "      <th>Lng</th>\n",
       "      <th>Max Temp</th>\n",
       "      <th>Humidity</th>\n",
       "      <th>Cloudiness</th>\n",
       "      <th>Wind Speed</th>\n",
       "      <th>Country</th>\n",
       "      <th>Date</th>\n",
       "    </tr>\n",
       "  </thead>\n",
       "  <tbody>\n",
       "    <tr>\n",
       "      <th>0</th>\n",
       "      <td>victoria</td>\n",
       "      <td>22.2855</td>\n",
       "      <td>114.1577</td>\n",
       "      <td>75.00</td>\n",
       "      <td>87</td>\n",
       "      <td>100</td>\n",
       "      <td>1.01</td>\n",
       "      <td>HK</td>\n",
       "      <td>1619450373</td>\n",
       "    </tr>\n",
       "    <tr>\n",
       "      <th>1</th>\n",
       "      <td>cidreira</td>\n",
       "      <td>-30.1811</td>\n",
       "      <td>-50.2056</td>\n",
       "      <td>67.98</td>\n",
       "      <td>63</td>\n",
       "      <td>66</td>\n",
       "      <td>13.58</td>\n",
       "      <td>BR</td>\n",
       "      <td>1619450441</td>\n",
       "    </tr>\n",
       "    <tr>\n",
       "      <th>2</th>\n",
       "      <td>ust-kuyga</td>\n",
       "      <td>70.0167</td>\n",
       "      <td>135.6000</td>\n",
       "      <td>27.34</td>\n",
       "      <td>98</td>\n",
       "      <td>100</td>\n",
       "      <td>1.70</td>\n",
       "      <td>RU</td>\n",
       "      <td>1619450441</td>\n",
       "    </tr>\n",
       "    <tr>\n",
       "      <th>3</th>\n",
       "      <td>maanshan</td>\n",
       "      <td>31.6957</td>\n",
       "      <td>118.4983</td>\n",
       "      <td>64.40</td>\n",
       "      <td>100</td>\n",
       "      <td>90</td>\n",
       "      <td>6.71</td>\n",
       "      <td>CN</td>\n",
       "      <td>1619450441</td>\n",
       "    </tr>\n",
       "    <tr>\n",
       "      <th>4</th>\n",
       "      <td>manggar</td>\n",
       "      <td>-2.8833</td>\n",
       "      <td>108.2667</td>\n",
       "      <td>82.47</td>\n",
       "      <td>71</td>\n",
       "      <td>25</td>\n",
       "      <td>5.95</td>\n",
       "      <td>ID</td>\n",
       "      <td>1619450442</td>\n",
       "    </tr>\n",
       "  </tbody>\n",
       "</table>\n",
       "</div>"
      ],
      "text/plain": [
       "        City      Lat       Lng  Max Temp  Humidity  Cloudiness  Wind Speed  \\\n",
       "0   victoria  22.2855  114.1577     75.00        87         100        1.01   \n",
       "1   cidreira -30.1811  -50.2056     67.98        63          66       13.58   \n",
       "2  ust-kuyga  70.0167  135.6000     27.34        98         100        1.70   \n",
       "3   maanshan  31.6957  118.4983     64.40       100          90        6.71   \n",
       "4    manggar  -2.8833  108.2667     82.47        71          25        5.95   \n",
       "\n",
       "  Country        Date  \n",
       "0      HK  1619450373  \n",
       "1      BR  1619450441  \n",
       "2      RU  1619450441  \n",
       "3      CN  1619450441  \n",
       "4      ID  1619450442  "
      ]
     },
     "execution_count": 12,
     "metadata": {},
     "output_type": "execute_result"
    }
   ],
   "source": [
    "#testing - convert first to floats for numeric values\n",
    "pd.to_numeric(city_data[\"Cloudiness\"]).astype(float)\n",
    "pd.to_numeric(city_data[\"Humidity\"]).astype(float)\n",
    "pd.to_numeric(city_data[\"Lat\"]).astype(float)\n",
    "pd.to_numeric(city_data[\"Lng\"]).astype(float)\n",
    "pd.to_numeric(city_data[\"Max Temp\"]).astype(float)\n",
    "pd.to_numeric(city_data[\"Wind Speed\"]).astype(float)\n",
    "city_data.head()\n",
    "\n",
    "#Export DataFrame to CSV File\n",
    "city_data.to_csv(\"city_data2.csv\")\n",
    "city_data.head()"
   ]
  },
  {
   "cell_type": "markdown",
   "metadata": {},
   "source": [
    "## Inspect the data and remove the cities where the humidity > 100%.\n",
    "----\n",
    "Skip this step if there are no cities that have humidity > 100%. "
   ]
  },
  {
   "cell_type": "code",
   "execution_count": 13,
   "metadata": {},
   "outputs": [
    {
     "data": {
      "text/html": [
       "<div>\n",
       "<style scoped>\n",
       "    .dataframe tbody tr th:only-of-type {\n",
       "        vertical-align: middle;\n",
       "    }\n",
       "\n",
       "    .dataframe tbody tr th {\n",
       "        vertical-align: top;\n",
       "    }\n",
       "\n",
       "    .dataframe thead th {\n",
       "        text-align: right;\n",
       "    }\n",
       "</style>\n",
       "<table border=\"1\" class=\"dataframe\">\n",
       "  <thead>\n",
       "    <tr style=\"text-align: right;\">\n",
       "      <th></th>\n",
       "      <th>City</th>\n",
       "      <th>Lat</th>\n",
       "      <th>Lng</th>\n",
       "      <th>Max Temp</th>\n",
       "      <th>Humidity</th>\n",
       "      <th>Cloudiness</th>\n",
       "      <th>Wind Speed</th>\n",
       "      <th>Country</th>\n",
       "      <th>Date</th>\n",
       "    </tr>\n",
       "  </thead>\n",
       "  <tbody>\n",
       "    <tr>\n",
       "      <th>0</th>\n",
       "      <td>victoria</td>\n",
       "      <td>22.2855</td>\n",
       "      <td>114.1577</td>\n",
       "      <td>75.00</td>\n",
       "      <td>87</td>\n",
       "      <td>100</td>\n",
       "      <td>1.01</td>\n",
       "      <td>HK</td>\n",
       "      <td>1619450373</td>\n",
       "    </tr>\n",
       "    <tr>\n",
       "      <th>1</th>\n",
       "      <td>cidreira</td>\n",
       "      <td>-30.1811</td>\n",
       "      <td>-50.2056</td>\n",
       "      <td>67.98</td>\n",
       "      <td>63</td>\n",
       "      <td>66</td>\n",
       "      <td>13.58</td>\n",
       "      <td>BR</td>\n",
       "      <td>1619450441</td>\n",
       "    </tr>\n",
       "    <tr>\n",
       "      <th>2</th>\n",
       "      <td>ust-kuyga</td>\n",
       "      <td>70.0167</td>\n",
       "      <td>135.6000</td>\n",
       "      <td>27.34</td>\n",
       "      <td>98</td>\n",
       "      <td>100</td>\n",
       "      <td>1.70</td>\n",
       "      <td>RU</td>\n",
       "      <td>1619450441</td>\n",
       "    </tr>\n",
       "    <tr>\n",
       "      <th>3</th>\n",
       "      <td>maanshan</td>\n",
       "      <td>31.6957</td>\n",
       "      <td>118.4983</td>\n",
       "      <td>64.40</td>\n",
       "      <td>100</td>\n",
       "      <td>90</td>\n",
       "      <td>6.71</td>\n",
       "      <td>CN</td>\n",
       "      <td>1619450441</td>\n",
       "    </tr>\n",
       "    <tr>\n",
       "      <th>4</th>\n",
       "      <td>manggar</td>\n",
       "      <td>-2.8833</td>\n",
       "      <td>108.2667</td>\n",
       "      <td>82.47</td>\n",
       "      <td>71</td>\n",
       "      <td>25</td>\n",
       "      <td>5.95</td>\n",
       "      <td>ID</td>\n",
       "      <td>1619450442</td>\n",
       "    </tr>\n",
       "  </tbody>\n",
       "</table>\n",
       "</div>"
      ],
      "text/plain": [
       "        City      Lat       Lng  Max Temp  Humidity  Cloudiness  Wind Speed  \\\n",
       "0   victoria  22.2855  114.1577     75.00        87         100        1.01   \n",
       "1   cidreira -30.1811  -50.2056     67.98        63          66       13.58   \n",
       "2  ust-kuyga  70.0167  135.6000     27.34        98         100        1.70   \n",
       "3   maanshan  31.6957  118.4983     64.40       100          90        6.71   \n",
       "4    manggar  -2.8833  108.2667     82.47        71          25        5.95   \n",
       "\n",
       "  Country        Date  \n",
       "0      HK  1619450373  \n",
       "1      BR  1619450441  \n",
       "2      RU  1619450441  \n",
       "3      CN  1619450441  \n",
       "4      ID  1619450442  "
      ]
     },
     "execution_count": 13,
     "metadata": {},
     "output_type": "execute_result"
    }
   ],
   "source": [
    "#inspect and remove cities w/ humidity over 100% - had to go back and reset values as float to correctly calculate - WHEW!\n",
    "    #https://www.geeksforgeeks.org/drop-rows-from-the-dataframe-based-on-certain-condition-applied-on-a-column/\n",
    "city_data.drop(city_data[city_data['Humidity'] > 100].index, inplace=True)\n",
    "city_data.head()"
   ]
  },
  {
   "cell_type": "code",
   "execution_count": 14,
   "metadata": {},
   "outputs": [
    {
     "data": {
      "text/html": [
       "<div>\n",
       "<style scoped>\n",
       "    .dataframe tbody tr th:only-of-type {\n",
       "        vertical-align: middle;\n",
       "    }\n",
       "\n",
       "    .dataframe tbody tr th {\n",
       "        vertical-align: top;\n",
       "    }\n",
       "\n",
       "    .dataframe thead th {\n",
       "        text-align: right;\n",
       "    }\n",
       "</style>\n",
       "<table border=\"1\" class=\"dataframe\">\n",
       "  <thead>\n",
       "    <tr style=\"text-align: right;\">\n",
       "      <th></th>\n",
       "      <th>Lat</th>\n",
       "      <th>Lng</th>\n",
       "      <th>Max Temp</th>\n",
       "      <th>Humidity</th>\n",
       "      <th>Cloudiness</th>\n",
       "      <th>Wind Speed</th>\n",
       "      <th>Date</th>\n",
       "    </tr>\n",
       "  </thead>\n",
       "  <tbody>\n",
       "    <tr>\n",
       "      <th>count</th>\n",
       "      <td>545.000000</td>\n",
       "      <td>545.000000</td>\n",
       "      <td>545.000000</td>\n",
       "      <td>545.000000</td>\n",
       "      <td>545.000000</td>\n",
       "      <td>545.000000</td>\n",
       "      <td>5.450000e+02</td>\n",
       "    </tr>\n",
       "    <tr>\n",
       "      <th>mean</th>\n",
       "      <td>20.387818</td>\n",
       "      <td>20.791194</td>\n",
       "      <td>62.146991</td>\n",
       "      <td>64.647706</td>\n",
       "      <td>51.433028</td>\n",
       "      <td>7.749963</td>\n",
       "      <td>1.619451e+09</td>\n",
       "    </tr>\n",
       "    <tr>\n",
       "      <th>std</th>\n",
       "      <td>33.762211</td>\n",
       "      <td>87.648365</td>\n",
       "      <td>21.657066</td>\n",
       "      <td>24.385023</td>\n",
       "      <td>38.193052</td>\n",
       "      <td>4.809598</td>\n",
       "      <td>7.014181e+01</td>\n",
       "    </tr>\n",
       "    <tr>\n",
       "      <th>min</th>\n",
       "      <td>-54.800000</td>\n",
       "      <td>-179.166700</td>\n",
       "      <td>-3.950000</td>\n",
       "      <td>4.000000</td>\n",
       "      <td>0.000000</td>\n",
       "      <td>0.270000</td>\n",
       "      <td>1.619450e+09</td>\n",
       "    </tr>\n",
       "    <tr>\n",
       "      <th>25%</th>\n",
       "      <td>-7.938600</td>\n",
       "      <td>-57.557500</td>\n",
       "      <td>46.400000</td>\n",
       "      <td>50.000000</td>\n",
       "      <td>11.000000</td>\n",
       "      <td>4.030000</td>\n",
       "      <td>1.619450e+09</td>\n",
       "    </tr>\n",
       "    <tr>\n",
       "      <th>50%</th>\n",
       "      <td>25.020900</td>\n",
       "      <td>26.400000</td>\n",
       "      <td>65.430000</td>\n",
       "      <td>69.000000</td>\n",
       "      <td>54.000000</td>\n",
       "      <td>6.910000</td>\n",
       "      <td>1.619451e+09</td>\n",
       "    </tr>\n",
       "    <tr>\n",
       "      <th>75%</th>\n",
       "      <td>50.350000</td>\n",
       "      <td>92.305800</td>\n",
       "      <td>79.610000</td>\n",
       "      <td>83.000000</td>\n",
       "      <td>90.000000</td>\n",
       "      <td>10.420000</td>\n",
       "      <td>1.619451e+09</td>\n",
       "    </tr>\n",
       "    <tr>\n",
       "      <th>max</th>\n",
       "      <td>78.218600</td>\n",
       "      <td>179.316700</td>\n",
       "      <td>107.910000</td>\n",
       "      <td>100.000000</td>\n",
       "      <td>100.000000</td>\n",
       "      <td>25.320000</td>\n",
       "      <td>1.619451e+09</td>\n",
       "    </tr>\n",
       "  </tbody>\n",
       "</table>\n",
       "</div>"
      ],
      "text/plain": [
       "              Lat         Lng    Max Temp    Humidity  Cloudiness  Wind Speed  \\\n",
       "count  545.000000  545.000000  545.000000  545.000000  545.000000  545.000000   \n",
       "mean    20.387818   20.791194   62.146991   64.647706   51.433028    7.749963   \n",
       "std     33.762211   87.648365   21.657066   24.385023   38.193052    4.809598   \n",
       "min    -54.800000 -179.166700   -3.950000    4.000000    0.000000    0.270000   \n",
       "25%     -7.938600  -57.557500   46.400000   50.000000   11.000000    4.030000   \n",
       "50%     25.020900   26.400000   65.430000   69.000000   54.000000    6.910000   \n",
       "75%     50.350000   92.305800   79.610000   83.000000   90.000000   10.420000   \n",
       "max     78.218600  179.316700  107.910000  100.000000  100.000000   25.320000   \n",
       "\n",
       "               Date  \n",
       "count  5.450000e+02  \n",
       "mean   1.619451e+09  \n",
       "std    7.014181e+01  \n",
       "min    1.619450e+09  \n",
       "25%    1.619450e+09  \n",
       "50%    1.619451e+09  \n",
       "75%    1.619451e+09  \n",
       "max    1.619451e+09  "
      ]
     },
     "execution_count": 14,
     "metadata": {},
     "output_type": "execute_result"
    }
   ],
   "source": [
    "#looks like they want another sum stat table (do all count have same value?) is max humidity 100?\n",
    "city_data.describe()"
   ]
  },
  {
   "cell_type": "markdown",
   "metadata": {},
   "source": [
    "The first requirement is to create a series of scatter plots to showcase the following relationships:\n",
    "\n",
    "* Temperature (F) vs. Latitude\n",
    "* Humidity (%) vs. Latitude\n",
    "* Cloudiness (%) vs. Latitude\n",
    "* Wind Speed (mph) vs. Latitude\n",
    "\n",
    "After each plot, add a sentence or two explaining what the code is analyzing.\n"
   ]
  },
  {
   "cell_type": "markdown",
   "metadata": {},
   "source": [
    "## Plotting the Data\n",
    "* Use proper labeling of the plots using plot titles (including date of analysis) and axes labels.\n",
    "* Save the plotted figures as .pngs."
   ]
  },
  {
   "cell_type": "markdown",
   "metadata": {},
   "source": [
    "## Latitude vs. Temperature Plot"
   ]
  },
  {
   "cell_type": "code",
   "execution_count": 15,
   "metadata": {},
   "outputs": [
    {
     "data": {
      "image/png": "[encoded data removed]",
      "text/plain": [
       "<Figure size 432x288 with 1 Axes>"
      ]
     },
     "metadata": {
      "needs_background": "light"
     },
     "output_type": "display_data"
    }
   ],
   "source": [
    "#import date, found https://www.programiz.com/python-programming/datetime/current-datetime\n",
    "from datetime import date\n",
    "\n",
    "today = date.today() \n",
    "d1 = today.strftime(\"%m/%d/%Y\")\n",
    "plt.scatter(lat, max_temp, marker=\"o\", facecolors=\"blue\", edgecolors=\"black\")\n",
    "plt.title(f\"City Latitude vs. Max Temperature ({d1})\")\n",
    "plt.ylabel(\"Max Temperature\")\n",
    "plt.xlabel(\"Latitude\")\n",
    "plt.grid(True)\n",
    "\n",
    "plt.savefig('Latitude_vs_MaxTemp.png', bbox_inches='tight')\n",
    "plt.show()"
   ]
  },
  {
   "cell_type": "markdown",
   "metadata": {},
   "source": [
    "As you would expect, closer to Equator, hoter the temp on average. However, there are a few outliers. This could represent a high altitude or other factors contributing to a lower temp closer to the Equator."
   ]
  },
  {
   "cell_type": "markdown",
   "metadata": {},
   "source": [
    "## Latitude vs. Humidity Plot"
   ]
  },
  {
   "cell_type": "code",
   "execution_count": 16,
   "metadata": {},
   "outputs": [
    {
     "data": {
      "image/png": "[encoded data removed]",
      "text/plain": [
       "<Figure size 432x288 with 1 Axes>"
      ]
     },
     "metadata": {
      "needs_background": "light"
     },
     "output_type": "display_data"
    }
   ],
   "source": [
    "today = date.today() \n",
    "d1 = today.strftime(\"%m/%d/%Y\")\n",
    "plt.scatter(lat, humidity, marker=\"o\", facecolors=\"blue\", edgecolors=\"black\")\n",
    "plt.title(f\"City Latitude vs. Humidity ({d1})\")\n",
    "plt.ylabel(\"Humidity\")\n",
    "plt.xlabel(\"Latitude\")\n",
    "plt.grid(True)\n",
    "\n",
    "plt.savefig('Latitude_vs_Humidity.png', bbox_inches='tight')\n",
    "plt.show()\n",
    "#checkpoint"
   ]
  },
  {
   "cell_type": "markdown",
   "metadata": {},
   "source": [
    "Im not really seeing a direct correlation between humitidy and latitude. It does seem that the northern half seems a bit more humid than southern. Could this be because of tilt of Earth axis?"
   ]
  },
  {
   "cell_type": "markdown",
   "metadata": {},
   "source": [
    "## Latitude vs. Cloudiness Plot"
   ]
  },
  {
   "cell_type": "code",
   "execution_count": 17,
   "metadata": {},
   "outputs": [
    {
     "data": {
      "image/png": "[encoded data removed]",
      "text/plain": [
       "<Figure size 432x288 with 1 Axes>"
      ]
     },
     "metadata": {
      "needs_background": "light"
     },
     "output_type": "display_data"
    }
   ],
   "source": [
    "today = date.today() \n",
    "d1 = today.strftime(\"%m/%d/%Y\")\n",
    "plt.scatter(lat, cloudiness, marker=\"o\", facecolors=\"blue\", edgecolors=\"black\")\n",
    "plt.title(f\"City Latitude vs. Cloudiness ({d1})\")\n",
    "plt.ylabel(\"Cloudiness\")\n",
    "plt.xlabel(\"Latitude\")\n",
    "plt.grid(True)\n",
    "\n",
    "plt.savefig('Latitude_vs_Cloudiness.png', bbox_inches='tight')\n",
    "plt.show()"
   ]
  },
  {
   "cell_type": "markdown",
   "metadata": {},
   "source": [
    "Im not seeing correlations here either. Its relativley scattered throughout. It does seem tho no matter where you are... its typically going to either be minimal clouds or cloudy conditions. "
   ]
  },
  {
   "cell_type": "markdown",
   "metadata": {},
   "source": [
    "## Latitude vs. Wind Speed Plot"
   ]
  },
  {
   "cell_type": "code",
   "execution_count": 18,
   "metadata": {},
   "outputs": [
    {
     "data": {
      "image/png": "[encoded data removed]",
      "text/plain": [
       "<Figure size 432x288 with 1 Axes>"
      ]
     },
     "metadata": {
      "needs_background": "light"
     },
     "output_type": "display_data"
    }
   ],
   "source": [
    "today = date.today() \n",
    "d1 = today.strftime(\"%m/%d/%Y\")\n",
    "plt.scatter(lat, wind_speed, marker=\"o\", facecolors=\"blue\", edgecolors=\"black\")\n",
    "plt.title(f\"City Latitude vs. Wind Speed ({d1})\")\n",
    "plt.ylabel(\"Wind Speed (mph)\")\n",
    "plt.xlabel(\"Latitude\")\n",
    "plt.grid(True)\n",
    "\n",
    "plt.savefig('Latitude_vs_WindSpeed.png', bbox_inches='tight')\n",
    "plt.show()"
   ]
  },
  {
   "cell_type": "markdown",
   "metadata": {},
   "source": [
    "Wind speed is pretty regular accross. Not seeing anything that sticks out here too much. There are more high speeds at positive latitude but this is also representing the lack of data points farther south. Less land, less data. "
   ]
  },
  {
   "cell_type": "markdown",
   "metadata": {},
   "source": [
    "## Linear Regression"
   ]
  },
  {
   "cell_type": "markdown",
   "metadata": {},
   "source": [
    "The second requirement is to run linear regression on each relationship. This time, separate the plots into Northern Hemisphere (greater than or equal to 0 degrees latitude) and Southern Hemisphere (less than 0 degrees latitude):\n",
    "\n",
    "* Northern Hemisphere - Temperature (F) vs. Latitude\n",
    "* Southern Hemisphere - Temperature (F) vs. Latitude\n",
    "* Northern Hemisphere - Humidity (%) vs. Latitude\n",
    "* Southern Hemisphere - Humidity (%) vs. Latitude\n",
    "* Northern Hemisphere - Cloudiness (%) vs. Latitude\n",
    "* Southern Hemisphere - Cloudiness (%) vs. Latitude\n",
    "* Northern Hemisphere - Wind Speed (mph) vs. Latitude\n",
    "* Southern Hemisphere - Wind Speed (mph) vs. Latitude\n",
    "\n",
    "After each pair of plots, take the time to explain what the linear regression is modeling. For example, describe any relationships you notice and any other analysis you may have."
   ]
  },
  {
   "cell_type": "code",
   "execution_count": 19,
   "metadata": {},
   "outputs": [],
   "source": [
    "northern = city_data.loc[city_data[\"Lat\"] >= 0.0]\n",
    "northern.reset_index(inplace=True)\n",
    "\n",
    "southern = city_data.loc[city_data[\"Lat\"] < 0.0]\n",
    "southern.reset_index(inplace=True)"
   ]
  },
  {
   "cell_type": "code",
   "execution_count": 20,
   "metadata": {},
   "outputs": [
    {
     "data": {
      "text/html": [
       "<div>\n",
       "<style scoped>\n",
       "    .dataframe tbody tr th:only-of-type {\n",
       "        vertical-align: middle;\n",
       "    }\n",
       "\n",
       "    .dataframe tbody tr th {\n",
       "        vertical-align: top;\n",
       "    }\n",
       "\n",
       "    .dataframe thead th {\n",
       "        text-align: right;\n",
       "    }\n",
       "</style>\n",
       "<table border=\"1\" class=\"dataframe\">\n",
       "  <thead>\n",
       "    <tr style=\"text-align: right;\">\n",
       "      <th></th>\n",
       "      <th>index</th>\n",
       "      <th>City</th>\n",
       "      <th>Lat</th>\n",
       "      <th>Lng</th>\n",
       "      <th>Max Temp</th>\n",
       "      <th>Humidity</th>\n",
       "      <th>Cloudiness</th>\n",
       "      <th>Wind Speed</th>\n",
       "      <th>Country</th>\n",
       "      <th>Date</th>\n",
       "    </tr>\n",
       "  </thead>\n",
       "  <tbody>\n",
       "    <tr>\n",
       "      <th>0</th>\n",
       "      <td>0</td>\n",
       "      <td>victoria</td>\n",
       "      <td>22.2855</td>\n",
       "      <td>114.1577</td>\n",
       "      <td>75.00</td>\n",
       "      <td>87</td>\n",
       "      <td>100</td>\n",
       "      <td>1.01</td>\n",
       "      <td>HK</td>\n",
       "      <td>1619450373</td>\n",
       "    </tr>\n",
       "    <tr>\n",
       "      <th>1</th>\n",
       "      <td>2</td>\n",
       "      <td>ust-kuyga</td>\n",
       "      <td>70.0167</td>\n",
       "      <td>135.6000</td>\n",
       "      <td>27.34</td>\n",
       "      <td>98</td>\n",
       "      <td>100</td>\n",
       "      <td>1.70</td>\n",
       "      <td>RU</td>\n",
       "      <td>1619450441</td>\n",
       "    </tr>\n",
       "    <tr>\n",
       "      <th>2</th>\n",
       "      <td>3</td>\n",
       "      <td>maanshan</td>\n",
       "      <td>31.6957</td>\n",
       "      <td>118.4983</td>\n",
       "      <td>64.40</td>\n",
       "      <td>100</td>\n",
       "      <td>90</td>\n",
       "      <td>6.71</td>\n",
       "      <td>CN</td>\n",
       "      <td>1619450441</td>\n",
       "    </tr>\n",
       "    <tr>\n",
       "      <th>3</th>\n",
       "      <td>5</td>\n",
       "      <td>san ramon</td>\n",
       "      <td>37.7799</td>\n",
       "      <td>-121.9780</td>\n",
       "      <td>51.01</td>\n",
       "      <td>87</td>\n",
       "      <td>1</td>\n",
       "      <td>4.12</td>\n",
       "      <td>US</td>\n",
       "      <td>1619450245</td>\n",
       "    </tr>\n",
       "    <tr>\n",
       "      <th>4</th>\n",
       "      <td>8</td>\n",
       "      <td>nikolskoye</td>\n",
       "      <td>59.7035</td>\n",
       "      <td>30.7861</td>\n",
       "      <td>42.01</td>\n",
       "      <td>81</td>\n",
       "      <td>90</td>\n",
       "      <td>4.47</td>\n",
       "      <td>RU</td>\n",
       "      <td>1619450443</td>\n",
       "    </tr>\n",
       "  </tbody>\n",
       "</table>\n",
       "</div>"
      ],
      "text/plain": [
       "   index        City      Lat       Lng  Max Temp  Humidity  Cloudiness  \\\n",
       "0      0    victoria  22.2855  114.1577     75.00        87         100   \n",
       "1      2   ust-kuyga  70.0167  135.6000     27.34        98         100   \n",
       "2      3    maanshan  31.6957  118.4983     64.40       100          90   \n",
       "3      5   san ramon  37.7799 -121.9780     51.01        87           1   \n",
       "4      8  nikolskoye  59.7035   30.7861     42.01        81          90   \n",
       "\n",
       "   Wind Speed Country        Date  \n",
       "0        1.01      HK  1619450373  \n",
       "1        1.70      RU  1619450441  \n",
       "2        6.71      CN  1619450441  \n",
       "3        4.12      US  1619450245  \n",
       "4        4.47      RU  1619450443  "
      ]
     },
     "execution_count": 20,
     "metadata": {},
     "output_type": "execute_result"
    }
   ],
   "source": [
    "northern.head()#frustrated. can only get data in southern.... northern is blank - changed datatypes to float and now works!"
   ]
  },
  {
   "cell_type": "code",
   "execution_count": 21,
   "metadata": {},
   "outputs": [],
   "source": [
    "from sklearn.linear_model import LinearRegression"
   ]
  },
  {
   "cell_type": "code",
   "execution_count": 30,
   "metadata": {},
   "outputs": [
    {
     "data": {
      "image/png": "[encoded data removed]",
      "text/plain": [
       "<Figure size 432x288 with 1 Axes>"
      ]
     },
     "metadata": {
      "needs_background": "light"
     },
     "output_type": "display_data"
    }
   ],
   "source": [
    "#Northern - Max Temp vs Latitude - linear in 2 minutes? not sure if it worked.....\n",
    "X = northern.iloc[:, 2].values.reshape(-1, 1) # values converts it into a numpy array\n",
    "Y = northern.iloc[:, 4].values.reshape(-1, 1) # -1 means that calculate the dimension of rows, but have 1 column\n",
    "linear_regressor = LinearRegression()\n",
    "linear_regressor.fit(X, Y)\n",
    "Y_pred = linear_regressor.predict(X)\n",
    "\n",
    "\n",
    "plt.xlabel('Latitude')\n",
    "plt.ylabel('Max Temperature')\n",
    "plt.title('Northern Hemisphere Latitude vs Max Temp w/ Linear Regression')\n",
    "plt.annotate(linear_regressor,(6,10),fontsize=15,color=\"red\") #cannot figure out the annotate on this fast linear reg. way\n",
    "plt.scatter(X, Y)\n",
    "plt.plot(X, Y_pred, color='red')\n",
    "plt.show()\n"
   ]
  },
  {
   "cell_type": "markdown",
   "metadata": {},
   "source": [
    "Here it is pretty clear the relationship between Temp and Latitude. Closer to Equator - warmer you get. Of course outliers are present but could be factors such as altitude and what not. "
   ]
  },
  {
   "cell_type": "markdown",
   "metadata": {},
   "source": [
    "####  Northern Hemisphere - Max Temp vs. Latitude Linear Regression"
   ]
  },
  {
   "cell_type": "code",
   "execution_count": 39,
   "metadata": {},
   "outputs": [
    {
     "name": "stdout",
     "output_type": "stream",
     "text": [
      "The r-value: -0.8627094474751851\n"
     ]
    },
    {
     "data": {
      "image/png": "[encoded data removed]",
      "text/plain": [
       "<Figure size 432x288 with 1 Axes>"
      ]
     },
     "metadata": {
      "needs_background": "light"
     },
     "output_type": "display_data"
    }
   ],
   "source": [
    "x_values = (northern[\"Lat\"])\n",
    "y_values = (northern[\"Max Temp\"])\n",
    "(slope, intercept, rvalue, pbalur, stderr) = linregress(x_values, y_values)\n",
    "regress_values = x_values * slope + intercept\n",
    "line_eq = \"y = \" + str(round(slope,2)) + \"x + \" + str(round(intercept,2))\n",
    "\n",
    "plt.scatter(x_values,y_values)\n",
    "plt.plot(x_values,regress_values,\"r-\")\n",
    "plt.annotate(line_eq,(5,10),fontsize=15,color=\"red\")\n",
    "\n",
    "plt.xlabel('Latitude')\n",
    "plt.ylabel('Max Temperature')\n",
    "plt.title('Northern Hemisphere Latitude vs Max Temp w/ Linear Regression')\n",
    "\n",
    "print(f\"The r-value: {rvalue}\")\n",
    "\n",
    "plt.savefig('Northern Hemisphere Latitude vs Max Temp.png', bbox_inches='tight')\n",
    "plt.show()"
   ]
  },
  {
   "cell_type": "markdown",
   "metadata": {},
   "source": [
    "####  Southern Hemisphere - Max Temp vs. Latitude Linear Regression"
   ]
  },
  {
   "cell_type": "code",
   "execution_count": 56,
   "metadata": {},
   "outputs": [
    {
     "name": "stdout",
     "output_type": "stream",
     "text": [
      "The r-value: 0.7407588376073833\n"
     ]
    },
    {
     "data": {
      "image/png": "[encoded data removed]",
      "text/plain": [
       "<Figure size 432x288 with 1 Axes>"
      ]
     },
     "metadata": {
      "needs_background": "light"
     },
     "output_type": "display_data"
    }
   ],
   "source": [
    "x_values = (southern[\"Lat\"])\n",
    "y_values = (southern[\"Max Temp\"])\n",
    "(slope, intercept, rvalue, pbalur, stderr) = linregress(x_values, y_values)\n",
    "regress_values = x_values * slope + intercept\n",
    "line_eq = \"y = \" + str(round(slope,2)) + \"x + \" + str(round(intercept,2))\n",
    "\n",
    "plt.scatter(x_values,y_values)\n",
    "plt.plot(x_values,regress_values,\"r-\")\n",
    "plt.annotate(line_eq,(-40,40),fontsize=15,color=\"red\")\n",
    "\n",
    "plt.xlabel('Latitude')\n",
    "plt.ylabel('Max Temperature')\n",
    "plt.title('Southern Hemisphere Latitude vs Max Temp w/ Linear Regression')\n",
    "\n",
    "print(f\"The r-value: {rvalue}\")\n",
    "\n",
    "plt.savefig('Southern Hemisphere Latitude vs Max Temp.png', bbox_inches='tight')\n",
    "plt.show()"
   ]
  },
  {
   "cell_type": "markdown",
   "metadata": {},
   "source": [
    "As you would imagine, the farther you get from the 0 Latitude the cooler it gets. Same with outliers, could be contributing factors to make them outliers. "
   ]
  },
  {
   "cell_type": "markdown",
   "metadata": {},
   "source": [
    "####  Northern Hemisphere - Humidity (%) vs. Latitude Linear Regression"
   ]
  },
  {
   "cell_type": "code",
   "execution_count": 57,
   "metadata": {},
   "outputs": [
    {
     "name": "stdout",
     "output_type": "stream",
     "text": [
      "The r-value: 0.26754912686328464\n"
     ]
    },
    {
     "data": {
      "image/png": "[encoded data removed]",
      "text/plain": [
       "<Figure size 432x288 with 1 Axes>"
      ]
     },
     "metadata": {
      "needs_background": "light"
     },
     "output_type": "display_data"
    }
   ],
   "source": [
    "x_values = (northern[\"Lat\"])\n",
    "y_values = (northern[\"Humidity\"])\n",
    "(slope, intercept, rvalue, pbalur, stderr) = linregress(x_values, y_values)\n",
    "regress_values = x_values * slope + intercept\n",
    "line_eq = \"y = \" + str(round(slope,2)) + \"x + \" + str(round(intercept,2))\n",
    "\n",
    "plt.scatter(x_values,y_values)\n",
    "plt.plot(x_values,regress_values,\"r-\")\n",
    "plt.annotate(line_eq,(45,10),fontsize=15,color=\"red\")\n",
    "\n",
    "plt.xlabel('Latitude')\n",
    "plt.ylabel('Humidity')\n",
    "plt.title('Northern Hemisphere Latitude vs Humidity w/ Linear Regression')\n",
    "\n",
    "print(f\"The r-value: {rvalue}\")\n",
    "plt.savefig('Northern Hemisphere Latitude vs Humidity.png', bbox_inches='tight')\n",
    "plt.show()"
   ]
  },
  {
   "cell_type": "code",
   "execution_count": null,
   "metadata": {},
   "outputs": [],
   "source": [
    "Seems to be slightly more humid the more north you go - \n",
    "which I guess would make some sense considerting evaporation, clouds, elevation, etc..."
   ]
  },
  {
   "cell_type": "markdown",
   "metadata": {},
   "source": [
    "####  Southern Hemisphere - Humidity (%) vs. Latitude Linear Regression"
   ]
  },
  {
   "cell_type": "code",
   "execution_count": 58,
   "metadata": {},
   "outputs": [
    {
     "name": "stdout",
     "output_type": "stream",
     "text": [
      "The r-value: 0.0454049533631615\n"
     ]
    },
    {
     "data": {
      "image/png": "[encoded data removed]",
      "text/plain": [
       "<Figure size 432x288 with 1 Axes>"
      ]
     },
     "metadata": {
      "needs_background": "light"
     },
     "output_type": "display_data"
    }
   ],
   "source": [
    "x_values = (southern[\"Lat\"])\n",
    "y_values = (southern[\"Humidity\"])\n",
    "(slope, intercept, rvalue, pbalur, stderr) = linregress(x_values, y_values)\n",
    "regress_values = x_values * slope + intercept\n",
    "line_eq = \"y = \" + str(round(slope,2)) + \"x + \" + str(round(intercept,2))\n",
    "\n",
    "plt.scatter(x_values,y_values)\n",
    "plt.plot(x_values,regress_values,\"r-\")\n",
    "plt.annotate(line_eq,(-55,10),fontsize=15,color=\"red\")\n",
    "\n",
    "plt.xlabel('Latitude')\n",
    "plt.ylabel('Humidity')\n",
    "plt.title('Southern Hemisphere Latitude vs Humidity w/ Linear Regression')\n",
    "\n",
    "print(f\"The r-value: {rvalue}\")\n",
    "plt.savefig('Southern Hemisphere Latitude vs Humidity.png', bbox_inches='tight')\n",
    "plt.show()"
   ]
  },
  {
   "cell_type": "code",
   "execution_count": null,
   "metadata": {},
   "outputs": [],
   "source": [
    "Not really seeing anything here popping out. Southern hem... \n",
    "maybe we just dont have enough data points to really see with less data from southern hem. "
   ]
  },
  {
   "cell_type": "markdown",
   "metadata": {},
   "source": [
    "####  Northern Hemisphere - Cloudiness (%) vs. Latitude Linear Regression"
   ]
  },
  {
   "cell_type": "code",
   "execution_count": 59,
   "metadata": {},
   "outputs": [
    {
     "name": "stdout",
     "output_type": "stream",
     "text": [
      "The r-value: 0.20287564555878493\n"
     ]
    },
    {
     "data": {
      "image/png": "[encoded data removed]",
      "text/plain": [
       "<Figure size 432x288 with 1 Axes>"
      ]
     },
     "metadata": {
      "needs_background": "light"
     },
     "output_type": "display_data"
    }
   ],
   "source": [
    "x_values = (northern[\"Lat\"])\n",
    "y_values = (northern[\"Cloudiness\"])\n",
    "(slope, intercept, rvalue, pbalur, stderr) = linregress(x_values, y_values)\n",
    "regress_values = x_values * slope + intercept\n",
    "line_eq = \"y = \" + str(round(slope,2)) + \"x + \" + str(round(intercept,2))\n",
    "\n",
    "plt.scatter(x_values,y_values)\n",
    "plt.plot(x_values,regress_values,\"r-\")\n",
    "plt.annotate(line_eq,(45,10),fontsize=15,color=\"red\")\n",
    "\n",
    "plt.xlabel('Latitude')\n",
    "plt.ylabel('Cloudiness')\n",
    "plt.title('Northern Hemisphere Latitude vs Cloudiness w/ Linear Regression')\n",
    "\n",
    "print(f\"The r-value: {rvalue}\")\n",
    "plt.savefig('Northern Hemisphere Latitude vs Cloudiness.png', bbox_inches='tight')\n",
    "plt.show()"
   ]
  },
  {
   "cell_type": "markdown",
   "metadata": {},
   "source": [
    "slight increase in cloudiness as you move north. not as hot so not as much evaporation?"
   ]
  },
  {
   "cell_type": "markdown",
   "metadata": {},
   "source": [
    "####  Southern Hemisphere - Cloudiness (%) vs. Latitude Linear Regression"
   ]
  },
  {
   "cell_type": "code",
   "execution_count": 60,
   "metadata": {},
   "outputs": [
    {
     "name": "stdout",
     "output_type": "stream",
     "text": [
      "The r-value: 0.19562755740165638\n"
     ]
    },
    {
     "data": {
      "image/png": "[encoded data removed]",
      "text/plain": [
       "<Figure size 432x288 with 1 Axes>"
      ]
     },
     "metadata": {
      "needs_background": "light"
     },
     "output_type": "display_data"
    }
   ],
   "source": [
    "x_values = (southern[\"Lat\"])\n",
    "y_values = (southern[\"Cloudiness\"])\n",
    "(slope, intercept, rvalue, pbalur, stderr) = linregress(x_values, y_values)\n",
    "regress_values = x_values * slope + intercept\n",
    "line_eq = \"y = \" + str(round(slope,2)) + \"x + \" + str(round(intercept,2))\n",
    "\n",
    "plt.scatter(x_values,y_values)\n",
    "plt.plot(x_values,regress_values,\"r-\")\n",
    "plt.annotate(line_eq,(-55,10),fontsize=15,color=\"red\")\n",
    "\n",
    "plt.xlabel('Latitude')\n",
    "plt.ylabel('Humidity')\n",
    "plt.title('Southern Hemisphere Latitude vs Cloudiness w/ Linear Regression')\n",
    "\n",
    "print(f\"The r-value: {rvalue}\")\n",
    "plt.savefig('Southern Hemisphere Latitude vs Cloudiness.png', bbox_inches='tight')\n",
    "plt.show()"
   ]
  },
  {
   "cell_type": "markdown",
   "metadata": {},
   "source": [
    "Is a trend in decreasing clouds farther south you go. "
   ]
  },
  {
   "cell_type": "markdown",
   "metadata": {},
   "source": [
    "####  Northern Hemisphere - Wind Speed (mph) vs. Latitude Linear Regression"
   ]
  },
  {
   "cell_type": "code",
   "execution_count": 63,
   "metadata": {},
   "outputs": [
    {
     "name": "stdout",
     "output_type": "stream",
     "text": [
      "The r-value: 0.09552375900444773\n"
     ]
    },
    {
     "data": {
      "image/png": "[encoded data removed]",
      "text/plain": [
       "<Figure size 432x288 with 1 Axes>"
      ]
     },
     "metadata": {
      "needs_background": "light"
     },
     "output_type": "display_data"
    }
   ],
   "source": [
    "x_values = (northern[\"Lat\"])\n",
    "y_values = (northern[\"Wind Speed\"])\n",
    "(slope, intercept, rvalue, pbalur, stderr) = linregress(x_values, y_values)\n",
    "regress_values = x_values * slope + intercept\n",
    "line_eq = \"y = \" + str(round(slope,2)) + \"x + \" + str(round(intercept,2))\n",
    "\n",
    "plt.scatter(x_values,y_values)\n",
    "plt.plot(x_values,regress_values,\"r-\")\n",
    "plt.annotate(line_eq,(45,23),fontsize=15,color=\"red\")\n",
    "\n",
    "plt.xlabel('Latitude')\n",
    "plt.ylabel('Wind Speed')\n",
    "plt.title('Northern Hemisphere Latitude vs Wind Speed w/ Linear Regression')\n",
    "\n",
    "print(f\"The r-value: {rvalue}\")\n",
    "plt.savefig('Northern Hemisphere Latitude vs Wind Speed.png', bbox_inches='tight')\n",
    "plt.show()"
   ]
  },
  {
   "cell_type": "markdown",
   "metadata": {},
   "source": [
    "Not really much significant here to report. Other than the outliers being more closer to the 0 latitude. "
   ]
  },
  {
   "cell_type": "markdown",
   "metadata": {},
   "source": [
    "####  Southern Hemisphere - Wind Speed (mph) vs. Latitude Linear Regression"
   ]
  },
  {
   "cell_type": "code",
   "execution_count": 70,
   "metadata": {},
   "outputs": [
    {
     "name": "stdout",
     "output_type": "stream",
     "text": [
      "The r-value: -0.11275785823895058\n"
     ]
    },
    {
     "data": {
      "image/png": "[encoded data removed]",
      "text/plain": [
       "<Figure size 432x288 with 1 Axes>"
      ]
     },
     "metadata": {
      "needs_background": "light"
     },
     "output_type": "display_data"
    }
   ],
   "source": [
    "x_values = (southern[\"Lat\"])\n",
    "y_values = (southern[\"Wind Speed\"])\n",
    "(slope, intercept, rvalue, pbalur, stderr) = linregress(x_values, y_values)\n",
    "regress_values = x_values * slope + intercept\n",
    "line_eq = \"y = \" + str(round(slope,2)) + \"x + \" + str(round(intercept,2))\n",
    "\n",
    "plt.scatter(x_values,y_values)\n",
    "plt.plot(x_values,regress_values,\"r-\")\n",
    "plt.annotate(line_eq,(-55,20),fontsize=15,color=\"red\")\n",
    "\n",
    "plt.xlabel('Latitude')\n",
    "plt.ylabel('Wind Speed')\n",
    "plt.title('Southern Hemisphere Latitude vs Wind Speed w/ Linear Regression')\n",
    "\n",
    "print(f\"The r-value: {rvalue}\")\n",
    "plt.savefig('Southern Hemisphere Latitude vs Wind Speed.png', bbox_inches='tight')\n",
    "plt.show()"
   ]
  },
  {
   "cell_type": "markdown",
   "metadata": {},
   "source": [
    "Slight increase in wind speed as you move away farther south. "
   ]
  },
  {
   "cell_type": "code",
   "execution_count": null,
   "metadata": {},
   "outputs": [],
   "source": []
  }
 ],
 "metadata": {
  "anaconda-cloud": {},
  "kernel_info": {
   "name": "python3"
  },
  "kernelspec": {
   "display_name": "Python [conda env:root]",
   "language": "python",
   "name": "conda-root-py"
  },
  "language_info": {
   "codemirror_mode": {
    "name": "ipython",
    "version": 3
   },
   "file_extension": ".py",
   "mimetype": "text/x-python",
   "name": "python",
   "nbconvert_exporter": "python",
   "pygments_lexer": "ipython3",
   "version": "3.8.5"
  },
  "latex_envs": {
   "LaTeX_envs_menu_present": true,
   "autoclose": false,
   "autocomplete": true,
   "bibliofile": "biblio.bib",
   "cite_by": "apalike",
   "current_citInitial": 1,
   "eqLabelWithNumbers": true,
   "eqNumInitial": 1,
   "hotkeys": {
    "equation": "Ctrl-E",
    "itemize": "Ctrl-I"
   },
   "labels_anchors": false,
   "latex_user_defs": false,
   "report_style_numbering": false,
   "user_envs_cfg": false
  },
  "nteract": {
   "version": "0.12.3"
  }
 },
 "nbformat": 4,
 "nbformat_minor": 2
}
